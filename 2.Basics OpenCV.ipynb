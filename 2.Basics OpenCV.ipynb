{
 "cells": [
  {
   "cell_type": "markdown",
   "metadata": {},
   "source": [
    "# Callback Functions\n",
    "Interact with videos and Images"
   ]
  },
  {
   "cell_type": "code",
   "execution_count": 7,
   "metadata": {},
   "outputs": [],
   "source": [
    "import cv2\n",
    "import numpy as np\n",
    "\n",
    "\n",
    "################\n",
    "#Function\n",
    "################\n",
    "def draw_circle(event,x,y,flags,param):\n",
    "    \n",
    "    if event == cv2.EVENT_LBUTTONDOWN:\n",
    "        cv2.circle(img,(x,y),100,(0,255,0),-1)\n",
    "    \n",
    "        \n",
    "\n",
    "cv2.namedWindow(winname='trail_image')\n",
    "\n",
    "cv2.setMouseCallback('trail_image',draw_circle)\n",
    "\n",
    "\n",
    "\n",
    "\n",
    "\n",
    "#####################\n",
    "#Showing image with OpenCV\n",
    "######################\n",
    "\n",
    "img = np.zeros((512,512,3),np.int8)\n",
    "\n",
    "while True:\n",
    "    cv2.imshow('trail_image' , img)\n",
    "    \n",
    "    if cv2.waitKey(20) & 0xFF == 27:\n",
    "        break\n",
    "cv2.destroyAllWindows()\n",
    "\n",
    "#USE ESC key to come out"
   ]
  },
  {
   "cell_type": "markdown",
   "metadata": {},
   "source": [
    "# Check for multiple event"
   ]
  },
  {
   "cell_type": "code",
   "execution_count": 10,
   "metadata": {},
   "outputs": [],
   "source": [
    "import cv2\n",
    "import numpy as np\n",
    "\n",
    "\n",
    "################\n",
    "#Function\n",
    "################\n",
    "def draw_circle(event,x,y,flags,param):\n",
    "    \n",
    "    if event == cv2.EVENT_LBUTTONDOWN:\n",
    "        cv2.circle(img,(x,y),100,(0,255,0),-1)\n",
    "    \n",
    "    elif event == cv2.EVENT_RBUTTONDOWN:\n",
    "        cv2.circle(img,(x,y),100,(255,0,0),-1)\n",
    "\n",
    "cv2.namedWindow(winname='trail_image')\n",
    "\n",
    "cv2.setMouseCallback('trail_image',draw_circle)\n",
    "\n",
    "\n",
    "\n",
    "\n",
    "\n",
    "#####################\n",
    "#Showing image with OpenCV\n",
    "######################\n",
    "\n",
    "img = np.zeros((512,512,3),np.int8)\n",
    "\n",
    "while True:\n",
    "    cv2.imshow('trail_image' , img)\n",
    "    \n",
    "    if cv2.waitKey(20) & 0xFF == 27:\n",
    "        break\n",
    "cv2.destroyAllWindows()\n",
    "\n",
    "#USE ESC key to come out"
   ]
  },
  {
   "cell_type": "markdown",
   "metadata": {},
   "source": [
    "# Slowly drag building rectangles"
   ]
  },
  {
   "cell_type": "code",
   "execution_count": 18,
   "metadata": {},
   "outputs": [],
   "source": [
    "import cv2\n",
    "import numpy as np\n",
    "\n",
    "#VARIABLES\n",
    "\n",
    "drawing = False  #True while mouse button down ,False while mouse button UP\n",
    "ix = -1\n",
    "iy = -1\n",
    "\n",
    "#FUNCTIONS\n",
    "\n",
    "def draw_rec(event,x,y,flags,params):\n",
    "    \n",
    "    global ix,iy,drawing\n",
    "    \n",
    "    if event == cv2.EVENT_LBUTTONDOWN:\n",
    "        \n",
    "        drawing = True\n",
    "        ix,iy = x,y\n",
    "        \n",
    "    elif event == cv2.EVENT_MOUSEMOVE:\n",
    "        if drawing == True:\n",
    "            cv2.rectangle(img,(ix,iy),(x,y),(0,255,0),-1)\n",
    "            \n",
    "    elif event == cv2.EVENT_LBUTTONUP:\n",
    "        drawing = False\n",
    "        cv2.rectangle(img,(ix,iy),(x,y),(0,255,0),-1)\n",
    "        \n",
    "        \n",
    "        \n",
    "        \n",
    "        \n",
    "#SH0WING IMAGE\n",
    "img = np.zeros((512,512,3))\n",
    "\n",
    "cv2.namedWindow(winname='new_image')\n",
    "\n",
    "cv2.setMouseCallback('new_image',draw_rec)\n",
    "\n",
    "while True:\n",
    "    \n",
    "    cv2.imshow('new_image',img)\n",
    "    \n",
    "    # Checks for Esc key ( 1 mili sec )\n",
    "    if cv2.waitKey(1) & 0xFF ==27:\n",
    "        break\n",
    "        \n",
    "cv2.destroyAllWindows()"
   ]
  },
  {
   "cell_type": "code",
   "execution_count": null,
   "metadata": {},
   "outputs": [],
   "source": []
  }
 ],
 "metadata": {
  "kernelspec": {
   "display_name": "Python 3",
   "language": "python",
   "name": "python3"
  },
  "language_info": {
   "codemirror_mode": {
    "name": "ipython",
    "version": 3
   },
   "file_extension": ".py",
   "mimetype": "text/x-python",
   "name": "python",
   "nbconvert_exporter": "python",
   "pygments_lexer": "ipython3",
   "version": "3.7.3"
  }
 },
 "nbformat": 4,
 "nbformat_minor": 2
}
